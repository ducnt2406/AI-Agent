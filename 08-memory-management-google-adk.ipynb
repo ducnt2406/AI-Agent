{
 "cells": [
  {
   "cell_type": "markdown",
   "id": "86392174-9986-4fb0-b400-ca4f0e0d37b4",
   "metadata": {},
   "source": [
    "# Session services"
   ]
  },
  {
   "cell_type": "code",
   "execution_count": null,
   "id": "fc25a584-02d1-4cb0-ba5c-a2b3a6e4848b",
   "metadata": {},
   "outputs": [],
   "source": [
    "# Example: Using DatabaseSessionService\n",
    "# This is suitable for production or development requiring persistent storage.\n",
    "# You need to configure a database URL (e.g., for SQLite, PostgreSQL, etc.).\n",
    "# Requires: pip install google-adk[sqlalchemy] and a database driver (e.g., psycopg2 for PostgreSQL)\n",
    "from google.adk.sessions import DatabaseSessionService\n",
    "# Example using a local SQLite file:\n",
    "db_url = \"sqlite:///./my_agent_data.db\"\n",
    "session_service = DatabaseSessionService(db_url=db_url)"
   ]
  },
  {
   "cell_type": "code",
   "execution_count": null,
   "id": "10d4a386-55b1-44d4-876f-7d28def8c5a6",
   "metadata": {},
   "outputs": [],
   "source": [
    "# Example: Using VertexAiSessionService\n",
    "# This is suitable for scalable production on Google Cloud Platform, leveraging\n",
    "# Vertex AI infrastructure for session management.\n",
    "# Requires: pip install google-adk[vertexai] and GCP setup/authentication\n",
    "from google.adk.sessions import VertexAiSessionService\n",
    "\n",
    "PROJECT_ID = \"your-gcp-project-id\" # Replace with your GCP project ID\n",
    "LOCATION = \"us-central1\" # Replace with your desired GCP location\n",
    "# The app_name used with this service should correspond to the Reasoning Engine ID or name\n",
    "REASONING_ENGINE_APP_NAME = \"projects/your-gcp-project-id/locations/us-central1/reasoningEngines/your-engine-id\" # Replace with your Reasoning Engine resource name\n",
    "\n",
    "session_service = VertexAiSessionService(project=PROJECT_ID, location=LOCATION)\n",
    "# When using this service, pass REASONING_ENGINE_APP_NAME to service methods:\n",
    "# session_service.create_session(app_name=REASONING_ENGINE_APP_NAME, ...)\n",
    "# session_service.get_session(app_name=REASONING_ENGINE_APP_NAME, ...)\n",
    "# session_service.append_event(session, event, app_name=REASONING_ENGINE_APP_NAME)\n",
    "# session_service.delete_session(app_name=REASONING_ENGINE_APP_NAME, ...)"
   ]
  },
  {
   "cell_type": "markdown",
   "id": "bb0c5455-8ba6-4cd0-8243-29ac16c373d0",
   "metadata": {},
   "source": [
    "# Memory Services"
   ]
  },
  {
   "cell_type": "code",
   "execution_count": null,
   "id": "7c2cd0c2-1b54-479b-bd27-9046490d6877",
   "metadata": {},
   "outputs": [],
   "source": [
    "# Example: Using InMemoryMemoryService\n",
    "# This is suitable for local development and testing where data persistence\n",
    "# across application restarts is not required. Memory content is lost when the app stops.\n",
    "from google.adk.memory import InMemoryMemoryService\n",
    "memory_service = InMemoryMemoryService()"
   ]
  },
  {
   "cell_type": "code",
   "execution_count": null,
   "id": "72e18bd5-ecc6-42e5-b613-6bca75f8228c",
   "metadata": {},
   "outputs": [],
   "source": [
    "# Example: Using VertexAiRagMemoryService\n",
    "# This is suitable for scalable production on Google Cloud Platform, leveraging\n",
    "# Vertex AI RAG (Retrieval Augmented Generation) for persistent, searchable memory.\n",
    "# Requires: pip install google-adk[vertexai], GCP setup/authentication, and a Vertex AI RAG Corpus.\n",
    "from google.adk.memory import VertexAiRagMemoryService\n",
    "\n",
    "# The resource name of your Vertex AI RAG Corpus\n",
    "RAG_CORPUS_RESOURCE_NAME = \"projects/your-gcp-project-id/locations/us-central1/ragCorpora/your-corpus-id\" # Replace with your Corpus resource name\n",
    "\n",
    "# Optional configuration for retrieval behavior\n",
    "SIMILARITY_TOP_K = 5 # Number of top results to retrieve\n",
    "VECTOR_DISTANCE_THRESHOLD = 0.7 # Threshold for vector similarity\n",
    "\n",
    "memory_service = VertexAiRagMemoryService(\n",
    "    rag_corpus=RAG_CORPUS_RESOURCE_NAME,\n",
    "    similarity_top_k=SIMILARITY_TOP_K,\n",
    "    vector_distance_threshold=VECTOR_DISTANCE_THRESHOLD\n",
    ")\n",
    "# When using this service, methods like add_session_to_memory and search_memory\n",
    "# will interact with the specified Vertex AI RAG Corpus."
   ]
  },
  {
   "cell_type": "markdown",
   "id": "8f4f4fb7-4621-4527-afb9-281519eb3e32",
   "metadata": {},
   "source": [
    "# State"
   ]
  },
  {
   "cell_type": "code",
   "execution_count": 8,
   "id": "4f683bc9-58af-4eb8-870c-22fed9573fe7",
   "metadata": {},
   "outputs": [
    {
     "name": "stderr",
     "output_type": "stream",
     "text": [
      "/tmp/ipykernel_3967/3192191429.py:23: RuntimeWarning: coroutine 'InMemorySessionService.create_session' was never awaited\n",
      "  session = session_service.create_session(\n",
      "RuntimeWarning: Enable tracemalloc to get the object allocation traceback\n",
      "Exception in thread Thread-8 (_asyncio_thread_main):\n",
      "Traceback (most recent call last):\n",
      "  File \"/usr/lib/python3.11/threading.py\", line 1045, in _bootstrap_inner\n",
      "    self.run()\n",
      "  File \"/usr/local/lib/python3.11/dist-packages/ipykernel/ipkernel.py\", line 766, in run_closure\n",
      "    _threading_Thread_run(self)\n",
      "  File \"/usr/lib/python3.11/threading.py\", line 982, in run\n",
      "    self._target(*self._args, **self._kwargs)\n",
      "  File \"/usr/local/lib/python3.11/dist-packages/google/adk/runners.py\", line 163, in _asyncio_thread_main\n",
      "    asyncio.run(_invoke_run_async())\n",
      "  File \"/usr/lib/python3.11/asyncio/runners.py\", line 190, in run\n",
      "    return runner.run(main)\n",
      "           ^^^^^^^^^^^^^^^^\n",
      "  File \"/usr/lib/python3.11/asyncio/runners.py\", line 118, in run\n",
      "    return self._loop.run_until_complete(task)\n",
      "           ^^^^^^^^^^^^^^^^^^^^^^^^^^^^^^^^^^^\n",
      "  File \"/usr/lib/python3.11/asyncio/base_events.py\", line 654, in run_until_complete\n",
      "    return future.result()\n",
      "           ^^^^^^^^^^^^^^^\n",
      "  File \"/usr/local/lib/python3.11/dist-packages/google/adk/runners.py\", line 156, in _invoke_run_async\n",
      "    async for event in agen:\n",
      "  File \"/usr/local/lib/python3.11/dist-packages/google/adk/runners.py\", line 248, in run_async\n",
      "    async for event in agen:\n",
      "  File \"/usr/local/lib/python3.11/dist-packages/google/adk/runners.py\", line 209, in _run_with_trace\n",
      "    raise ValueError(f'Session not found: {session_id}')\n",
      "ValueError: Session not found: session1\n"
     ]
    },
    {
     "name": "stdout",
     "output_type": "stream",
     "text": [
      "\n",
      "--- Running the agent ---\n"
     ]
    },
    {
     "ename": "TypeError",
     "evalue": "InMemorySessionService.get_session() takes 1 positional argument but 4 were given",
     "output_type": "error",
     "traceback": [
      "\u001b[31m---------------------------------------------------------------------------\u001b[39m",
      "\u001b[31mTypeError\u001b[39m                                 Traceback (most recent call last)",
      "\u001b[36mCell\u001b[39m\u001b[36m \u001b[39m\u001b[32mIn[8]\u001b[39m\u001b[32m, line 44\u001b[39m\n\u001b[32m     40\u001b[39m       \u001b[38;5;28mprint\u001b[39m(\u001b[33m\"\u001b[39m\u001b[33mAgent responded.\u001b[39m\u001b[33m\"\u001b[39m)\n\u001b[32m     42\u001b[39m \u001b[38;5;66;03m# --- Check Updated State ---\u001b[39;00m\n\u001b[32m     43\u001b[39m \u001b[38;5;66;03m# Correctly check the state *after* the runner has finished processing all events.\u001b[39;00m\n\u001b[32m---> \u001b[39m\u001b[32m44\u001b[39m updated_session = \u001b[43msession_service\u001b[49m\u001b[43m.\u001b[49m\u001b[43mget_session\u001b[49m\u001b[43m(\u001b[49m\u001b[43mapp_name\u001b[49m\u001b[43m,\u001b[49m\u001b[43m \u001b[49m\u001b[43muser_id\u001b[49m\u001b[43m,\u001b[49m\u001b[43m \u001b[49m\u001b[43msession_id\u001b[49m\u001b[43m)\u001b[49m\n\u001b[32m     45\u001b[39m \u001b[38;5;28mprint\u001b[39m(\u001b[33mf\u001b[39m\u001b[33m\"\u001b[39m\u001b[38;5;130;01m\\n\u001b[39;00m\u001b[33mState after agent run: \u001b[39m\u001b[38;5;132;01m{\u001b[39;00mupdated_session.state\u001b[38;5;132;01m}\u001b[39;00m\u001b[33m\"\u001b[39m)\n",
      "\u001b[31mTypeError\u001b[39m: InMemorySessionService.get_session() takes 1 positional argument but 4 were given"
     ]
    }
   ],
   "source": [
    "# Import necessary classes from the Google Agent Developer Kit (ADK)\n",
    "from google.adk.agents import LlmAgent\n",
    "from google.adk.sessions import InMemorySessionService, Session\n",
    "from google.adk.runners import Runner\n",
    "from google.genai.types import Content, Part\n",
    "\n",
    "# Define an LlmAgent with an output_key.\n",
    "greeting_agent = LlmAgent(\n",
    "    name=\"Greeter\",\n",
    "    model=\"gemini-2.0-flash\",\n",
    "    instruction=\"Generate a short, friendly greeting.\",\n",
    "    output_key=\"last_greeting\"\n",
    ")\n",
    "\n",
    "# --- Setup Runner and Session ---\n",
    "app_name, user_id, session_id = \"state_app\", \"user1\", \"session1\"\n",
    "session_service = InMemorySessionService()\n",
    "runner = Runner(\n",
    "    agent=greeting_agent,\n",
    "    app_name=app_name,\n",
    "    session_service=session_service\n",
    ")\n",
    "session = session_service.create_session(\n",
    "    app_name=app_name,\n",
    "    user_id=user_id,\n",
    "    session_id=session_id\n",
    ")\n",
    "\n",
    "# print(f\"Initial state: {session.state}\")\n",
    "\n",
    "# --- Run the Agent ---\n",
    "user_message = Content(parts=[Part(text=\"Hello\")])\n",
    "print(\"\\n--- Running the agent ---\")\n",
    "for event in runner.run(\n",
    "    user_id=user_id,\n",
    "    session_id=session_id,\n",
    "    new_message=user_message\n",
    "):\n",
    "    if event.is_final_response():\n",
    "      print(\"Agent responded.\")\n",
    "\n",
    "# --- Check Updated State ---\n",
    "# Correctly check the state *after* the runner has finished processing all events.\n",
    "updated_session = session_service.get_session(app_name, user_id, session_id)\n",
    "print(f\"\\nState after agent run: {updated_session.state}\")"
   ]
  },
  {
   "cell_type": "code",
   "execution_count": 4,
   "id": "b398b6f2-8ed5-4f95-9dfe-8678b2adcc84",
   "metadata": {},
   "outputs": [
    {
     "ename": "ImportError",
     "evalue": "cannot import name 'InvocationContext' from 'google.adk.tools.tool_context' (/usr/local/lib/python3.11/dist-packages/google/adk/tools/tool_context.py)",
     "output_type": "error",
     "traceback": [
      "\u001b[31m---------------------------------------------------------------------------\u001b[39m",
      "\u001b[31mImportError\u001b[39m                               Traceback (most recent call last)",
      "\u001b[36mCell\u001b[39m\u001b[36m \u001b[39m\u001b[32mIn[4]\u001b[39m\u001b[32m, line 50\u001b[39m\n\u001b[32m     40\u001b[39m session = session_service.create_session(\n\u001b[32m     41\u001b[39m     app_name=app_name,\n\u001b[32m     42\u001b[39m     user_id=user_id,\n\u001b[32m     43\u001b[39m     session_id=session_id,\n\u001b[32m     44\u001b[39m     state={\u001b[33m\"\u001b[39m\u001b[33muser:login_count\u001b[39m\u001b[33m\"\u001b[39m: \u001b[32m0\u001b[39m, \u001b[33m\"\u001b[39m\u001b[33mtask_status\u001b[39m\u001b[33m\"\u001b[39m: \u001b[33m\"\u001b[39m\u001b[33midle\u001b[39m\u001b[33m\"\u001b[39m}\n\u001b[32m     45\u001b[39m )\n\u001b[32m     46\u001b[39m \u001b[38;5;66;03m# print(f\"Initial state: {session.state}\")\u001b[39;00m\n\u001b[32m     47\u001b[39m \n\u001b[32m     48\u001b[39m \u001b[38;5;66;03m# 2. Simulate a tool call (in a real app, the ADK Runner does this)\u001b[39;00m\n\u001b[32m     49\u001b[39m \u001b[38;5;66;03m# We create a ToolContext manually just for this standalone example.\u001b[39;00m\n\u001b[32m---> \u001b[39m\u001b[32m50\u001b[39m \u001b[38;5;28;01mfrom\u001b[39;00m\u001b[38;5;250m \u001b[39m\u001b[34;01mgoogle\u001b[39;00m\u001b[34;01m.\u001b[39;00m\u001b[34;01madk\u001b[39;00m\u001b[34;01m.\u001b[39;00m\u001b[34;01mtools\u001b[39;00m\u001b[34;01m.\u001b[39;00m\u001b[34;01mtool_context\u001b[39;00m\u001b[38;5;250m \u001b[39m\u001b[38;5;28;01mimport\u001b[39;00m InvocationContext\n\u001b[32m     51\u001b[39m mock_context = ToolContext(\n\u001b[32m     52\u001b[39m     invocation_context=InvocationContext(\n\u001b[32m     53\u001b[39m         app_name=app_name, user_id=user_id, session_id=session_id,\n\u001b[32m     54\u001b[39m         session=session, session_service=session_service\n\u001b[32m     55\u001b[39m     )\n\u001b[32m     56\u001b[39m )\n\u001b[32m     58\u001b[39m \u001b[38;5;66;03m# 3. Execute the tool\u001b[39;00m\n",
      "\u001b[31mImportError\u001b[39m: cannot import name 'InvocationContext' from 'google.adk.tools.tool_context' (/usr/local/lib/python3.11/dist-packages/google/adk/tools/tool_context.py)"
     ]
    }
   ],
   "source": [
    "import time\n",
    "from google.adk.tools.tool_context import ToolContext\n",
    "from google.adk.sessions import InMemorySessionService\n",
    "\n",
    "# --- Define the Recommended Tool-Based Approach ---\n",
    "def log_user_login(tool_context: ToolContext) -> dict:\n",
    "    \"\"\"\n",
    "    Updates the session state upon a user login event.\n",
    "    This tool encapsulates all state changes related to a user login.\n",
    "    Args:\n",
    "        tool_context: Automatically provided by ADK, gives access to session state.\n",
    "    Returns:\n",
    "        A dictionary confirming the action was successful.\n",
    "    \"\"\"\n",
    "    # Access the state directly through the provided context.\n",
    "    state = tool_context.state\n",
    "\n",
    "    # Get current values or defaults, then update the state.\n",
    "    # This is much cleaner and co-locates the logic.\n",
    "    login_count = state.get(\"user:login_count\", 0) + 1\n",
    "    state[\"user:login_count\"] = login_count\n",
    "    state[\"task_status\"] = \"active\"\n",
    "    state[\"user:last_login_ts\"] = time.time()\n",
    "    state[\"temp:validation_needed\"] = True\n",
    "\n",
    "    print(\"State updated from within the `log_user_login` tool.\")\n",
    "\n",
    "    return {\n",
    "        \"status\": \"success\",\n",
    "        \"message\": f\"User login tracked. Total logins: {login_count}.\"\n",
    "    }\n",
    "\n",
    "# --- Demonstration of Usage ---\n",
    "# In a real application, an LLM Agent would decide to call this tool.\n",
    "# Here, we simulate a direct call for demonstration purposes.\n",
    "\n",
    "# 1. Setup\n",
    "session_service = InMemorySessionService()\n",
    "app_name, user_id, session_id = \"state_app_tool\", \"user3\", \"session3\"\n",
    "session = session_service.create_session(\n",
    "    app_name=app_name,\n",
    "    user_id=user_id,\n",
    "    session_id=session_id,\n",
    "    state={\"user:login_count\": 0, \"task_status\": \"idle\"}\n",
    ")\n",
    "# print(f\"Initial state: {session.state}\")\n",
    "\n",
    "# 2. Simulate a tool call (in a real app, the ADK Runner does this)\n",
    "# We create a ToolContext manually just for this standalone example.\n",
    "from google.adk.tools.tool_context import InvocationContext\n",
    "mock_context = ToolContext(\n",
    "    invocation_context=InvocationContext(\n",
    "        app_name=app_name, user_id=user_id, session_id=session_id,\n",
    "        session=session, session_service=session_service\n",
    "    )\n",
    ")\n",
    "\n",
    "# 3. Execute the tool\n",
    "log_user_login(mock_context)\n",
    "\n",
    "# 4. Check the updated state\n",
    "updated_session = session_service.get_session(app_name, user_id, session_id)\n",
    "print(f\"State after tool execution: {updated_session.state}\")\n",
    "\n",
    "# Expected output will show the same state change as the \"Before\" case,\n",
    "# but the code organization is significantly cleaner and more robust."
   ]
  },
  {
   "cell_type": "code",
   "execution_count": null,
   "id": "f039af32-7fe4-4769-989b-2fe3149ae5b8",
   "metadata": {},
   "outputs": [],
   "source": []
  }
 ],
 "metadata": {
  "kernelspec": {
   "display_name": "Python 3 (ipykernel)",
   "language": "python",
   "name": "python3"
  },
  "language_info": {
   "codemirror_mode": {
    "name": "ipython",
    "version": 3
   },
   "file_extension": ".py",
   "mimetype": "text/x-python",
   "name": "python",
   "nbconvert_exporter": "python",
   "pygments_lexer": "ipython3",
   "version": "3.11.13"
  }
 },
 "nbformat": 4,
 "nbformat_minor": 5
}
